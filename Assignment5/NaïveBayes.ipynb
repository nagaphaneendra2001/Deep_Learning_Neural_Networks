{
 "cells": [
  {
   "cell_type": "code",
   "execution_count": 6,
   "metadata": {
    "colab": {
     "base_uri": "https://localhost:8080/"
    },
    "id": "dmTPP6qhTWJE",
    "outputId": "452fdf26-3f38-4cfb-f3bc-ef63a506fb1c"
   },
   "outputs": [
    {
     "name": "stdout",
     "output_type": "stream",
     "text": [
      "Accuracy: 0.372\n",
      "              precision    recall  f1-score   support\n",
      "\n",
      "           1       0.50      0.20      0.29        10\n",
      "           2       0.83      0.25      0.38        20\n",
      "           3       0.16      0.67      0.26         6\n",
      "           5       0.00      0.00      0.00         2\n",
      "           6       1.00      1.00      1.00         2\n",
      "           7       0.75      1.00      0.86         3\n",
      "\n",
      "    accuracy                           0.37        43\n",
      "   macro avg       0.54      0.52      0.46        43\n",
      "weighted avg       0.63      0.37      0.39        43\n",
      "\n"
     ]
    }
   ],
   "source": [
    "import pandas as pd\n",
    "from sklearn.model_selection import train_test_split\n",
    "from sklearn.naive_bayes import GaussianNB\n",
    "from sklearn.metrics import classification_report\n",
    "\n",
    "#using pandas importing the glass csv file\n",
    "df = pd.read_csv('/glass.csv')\n",
    "X_train, X_test, Y_train, Y_test = train_test_split(df.drop(\"Type\", axis=1), df[\"Type\"], test_size=0.2)\n",
    "\n",
    "# train model using the Naive_bayes\n",
    "model = GaussianNB()\n",
    "model.fit(X_train, Y_train)\n",
    "\n",
    "# evaluating the model\n",
    "score = model.score(X_test, Y_test)\n",
    "print('Accuracy: %.3f' % score)\n",
    "\n",
    "# generating the classification report\n",
    "y_pred = model.predict(X_test)\n",
    "report = classification_report(y_true=Y_test, y_pred=y_pred)\n",
    "print(report)"
   ]
  },
  {
   "cell_type": "code",
   "execution_count": null,
   "metadata": {
    "id": "AKnTALj4dx9t"
   },
   "outputs": [],
   "source": []
  }
 ],
 "metadata": {
  "colab": {
   "provenance": []
  },
  "kernelspec": {
   "display_name": "Python 3 (ipykernel)",
   "language": "python",
   "name": "python3"
  },
  "language_info": {
   "codemirror_mode": {
    "name": "ipython",
    "version": 3
   },
   "file_extension": ".py",
   "mimetype": "text/x-python",
   "name": "python",
   "nbconvert_exporter": "python",
   "pygments_lexer": "ipython3",
   "version": "3.11.5"
  }
 },
 "nbformat": 4,
 "nbformat_minor": 1
}
